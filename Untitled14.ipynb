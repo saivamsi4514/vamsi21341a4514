{
 "cells": [
  {
   "cell_type": "code",
   "execution_count": 1,
   "id": "b53981c9-460a-4364-a5b8-6a0dcc03cc4a",
   "metadata": {},
   "outputs": [
    {
     "name": "stdout",
     "output_type": "stream",
     "text": [
      "Failed to retrieve data\n"
     ]
    }
   ],
   "source": [
    "import requests\n",
    "\n",
    "url = \"http://20.244.56.144/test/companies/AMZ/categories/Laptop/products?top=10&minPrice=1&maxPrice=10000\"\n",
    "response = requests.get(url)\n",
    "\n",
    "if response.status_code == 200:\n",
    "    data = response.json()\n",
    "    for product in data:\n",
    "        print(f\"Product Name: {product['productName']}\")\n",
    "        print(f\"Price: {product['price']}\")\n",
    "        print(f\"Rating: {product['rating']}\")\n",
    "        print(f\"Discount: {product['discount']}\")\n",
    "        print(f\"Availability: {product['availability']}\\n\")\n",
    "else:\n",
    "    print(\"Failed to retrieve data\")\n"
   ]
  },
  {
   "cell_type": "code",
   "execution_count": null,
   "id": "fb67af1d-17d2-4782-ba2d-ed18da358702",
   "metadata": {},
   "outputs": [],
   "source": []
  }
 ],
 "metadata": {
  "kernelspec": {
   "display_name": "Python 3 (ipykernel)",
   "language": "python",
   "name": "python3"
  },
  "language_info": {
   "codemirror_mode": {
    "name": "ipython",
    "version": 3
   },
   "file_extension": ".py",
   "mimetype": "text/x-python",
   "name": "python",
   "nbconvert_exporter": "python",
   "pygments_lexer": "ipython3",
   "version": "3.11.5"
  }
 },
 "nbformat": 4,
 "nbformat_minor": 5
}
